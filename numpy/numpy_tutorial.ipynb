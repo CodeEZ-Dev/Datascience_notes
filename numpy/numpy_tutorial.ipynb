{
 "cells": [
  {
   "cell_type": "code",
   "execution_count": 2,
   "metadata": {},
   "outputs": [
    {
     "name": "stdout",
     "output_type": "stream",
     "text": [
      "Requirement already satisfied: numpy in /opt/anaconda3/lib/python3.11/site-packages (1.26.4)\n"
     ]
    }
   ],
   "source": [
    "! pip install numpy"
   ]
  },
  {
   "cell_type": "markdown",
   "metadata": {},
   "source": [
    "## Basic Numpy"
   ]
  },
  {
   "cell_type": "markdown",
   "metadata": {},
   "source": [
    "**NumPy (Numerical Python)** is a fundamental package for numerical computing in Python. It provides support for large, multi-dimensional arrays and matrices, along with a collection of mathematical functions to operate on these arrays efficiently. NumPy is widely used in scientific, engineering, and data science applications where numerical data processing is paramount.\n",
    "\n",
    "### Key Features of NumPy:\n",
    "\n",
    "1. **N-dimensional Array Object (`ndarray`)**:\n",
    "   - NumPy's core feature is its `ndarray`, a multi-dimensional array object.\n",
    "   - Arrays in NumPy are homogeneous and can contain elements of a single data type (`dtype`), typically numerical (integers, floats), but also booleans, strings, etc.\n",
    "   \n",
    "   - Arrays can be created from Python lists or tuples using `np.array()`.\n",
    "\n",
    "2. **Efficient Operations**:\n",
    "   - NumPy provides vectorized operations, which allow for element-wise operations and broadcasting.\n",
    "   - These operations are implemented in C and are much faster than their pure Python counterparts that use loops.\n",
    "\n",
    "3. **Broadcasting**:\n",
    "   - Broadcasting allows NumPy to perform operations on arrays of different shapes.\n",
    "   - It extends smaller arrays to match the shape of larger arrays during arithmetic operations, which makes code cleaner and faster.\n",
    "\n",
    "4. **Mathematical Functions**:\n",
    "   - NumPy offers a wide range of mathematical functions that operate element-wise on arrays.\n",
    "   - Functions include trigonometric functions, exponential and logarithmic functions, statistical functions, etc.\n",
    "\n",
    "5. **Array Manipulation**:\n",
    "   - NumPy provides functions for reshaping, slicing, merging, and splitting arrays.\n",
    "   - These operations allow for efficient data manipulation and extraction.\n",
    "\n",
    "6. **Linear Algebra**:\n",
    "   - NumPy has a rich library for linear algebra operations, such as matrix multiplication (`np.dot()`), matrix decomposition (`np.linalg.inv()`, `np.linalg.eig()`), solving linear equations, and more.\n",
    "\n",
    "7. **Random Number Generation**:\n",
    "   - NumPy provides functions to generate random numbers and random samples from different probability distributions.\n",
    "\n",
    "8. **Integration with Other Libraries**:\n",
    "   - NumPy integrates well with other libraries in the scientific computing ecosystem, such as SciPy (scientific computing), Matplotlib (plotting), Pandas (data manipulation), and more.\n",
    "\n",
    "### Example Usage of NumPy:\n",
    "\n",
    "Here are a few examples demonstrating the usage of NumPy:\n",
    "\n",
    "#### Creating an Array:\n",
    "\n",
    "```python\n",
    "import numpy as np\n",
    "\n",
    "# Creating a 1-dimensional array\n",
    "arr1 = np.array([1, 2, 3, 4, 5])\n",
    "print(arr1)\n",
    "\n",
    "# Creating a 2-dimensional array (matrix)\n",
    "arr2 = np.array([[1, 2, 3], [4, 5, 6]])\n",
    "print(arr2)\n",
    "```\n",
    "\n",
    "#### Performing Operations:\n",
    "\n",
    "```python\n",
    "# Element-wise arithmetic operations\n",
    "a = np.array([1, 2, 3])\n",
    "b = np.array([4, 5, 6])\n",
    "\n",
    "print(a + b)  # Output: [5 7 9]\n",
    "print(a * b)  # Output: [4 10 18]\n",
    "\n",
    "# Broadcasting\n",
    "c = np.array([[1, 2, 3], [4, 5, 6]])\n",
    "d = np.array([10, 20, 30])\n",
    "\n",
    "print(c + d)  # Output: [[11 22 33] [14 25 36]]\n",
    "```\n",
    "\n",
    "#### Linear Algebra Operations:\n",
    "\n",
    "```python\n",
    "# Matrix multiplication\n",
    "matrix1 = np.array([[1, 2], [3, 4]])\n",
    "matrix2 = np.array([[5, 6], [7, 8]])\n",
    "\n",
    "result = np.dot(matrix1, matrix2)\n",
    "print(result)  # Output: [[19 22] [43 50]]\n",
    "\n",
    "# Finding eigenvalues and eigenvectors\n",
    "eigenvalues, eigenvectors = np.linalg.eig(matrix1)\n",
    "print(\"Eigenvalues:\", eigenvalues)\n",
    "print(\"Eigenvectors:\", eigenvectors)\n",
    "```\n",
    "\n",
    "### Benefits of Using NumPy:\n",
    "\n",
    "- **Efficiency**: NumPy operations are implemented in C, making them faster than pure Python equivalents.\n",
    "- **Ease of Use**: Provides a simple and intuitive interface for numerical operations.\n",
    "- **Broad Applicability**: Used in various domains including scientific computing, machine learning, signal processing, etc.\n",
    "- **Integration**: Works seamlessly with other libraries in the Python ecosystem.\n",
    "\n",
    "NumPy's power lies in its ability to handle large datasets efficiently and perform complex mathematical computations with ease, making it an essential tool for anyone working with numerical data in Python."
   ]
  },
  {
   "cell_type": "code",
   "execution_count": 3,
   "metadata": {},
   "outputs": [],
   "source": [
    "import numpy as np"
   ]
  },
  {
   "cell_type": "code",
   "execution_count": 4,
   "metadata": {},
   "outputs": [
    {
     "name": "stdout",
     "output_type": "stream",
     "text": [
      "[1 2 3 4]\n"
     ]
    }
   ],
   "source": [
    "a=np.array([1,2,3,4], dtype='int32')\n",
    "print(a)"
   ]
  },
  {
   "cell_type": "code",
   "execution_count": 5,
   "metadata": {},
   "outputs": [
    {
     "name": "stdout",
     "output_type": "stream",
     "text": [
      "[[1. 2. 3. 4.]\n",
      " [5. 6. 7. 8.]]\n"
     ]
    }
   ],
   "source": [
    "b = np.array([[1.0,2.0,3.0,4.0],[5.0,6.0,7.0,8.0]])\n",
    "print(b)"
   ]
  },
  {
   "cell_type": "code",
   "execution_count": 6,
   "metadata": {},
   "outputs": [
    {
     "name": "stdout",
     "output_type": "stream",
     "text": [
      "1\n"
     ]
    }
   ],
   "source": [
    "# Get Dimension\n",
    "print(a.ndim)"
   ]
  },
  {
   "cell_type": "code",
   "execution_count": 7,
   "metadata": {},
   "outputs": [
    {
     "name": "stdout",
     "output_type": "stream",
     "text": [
      "(4,)\n",
      "(2, 4)\n"
     ]
    }
   ],
   "source": [
    "# Get the shape\n",
    "\n",
    "print(a.shape)\n",
    "print(b.shape)"
   ]
  },
  {
   "cell_type": "code",
   "execution_count": 8,
   "metadata": {},
   "outputs": [
    {
     "name": "stdout",
     "output_type": "stream",
     "text": [
      "float64\n",
      "int32\n"
     ]
    }
   ],
   "source": [
    "# Get type\n",
    "print(b.dtype)\n",
    "print(a.dtype)"
   ]
  },
  {
   "cell_type": "code",
   "execution_count": 9,
   "metadata": {},
   "outputs": [
    {
     "name": "stdout",
     "output_type": "stream",
     "text": [
      "4\n",
      "4\n"
     ]
    }
   ],
   "source": [
    "# Get Size\n",
    "\n",
    "print(a.size)\n",
    "print(a.itemsize)"
   ]
  },
  {
   "cell_type": "code",
   "execution_count": 10,
   "metadata": {},
   "outputs": [
    {
     "name": "stdout",
     "output_type": "stream",
     "text": [
      "16\n",
      "16\n"
     ]
    }
   ],
   "source": [
    "# Get Total Size\n",
    "print(a.size * a.itemsize)\n",
    "\n",
    "print(a.nbytes)"
   ]
  },
  {
   "cell_type": "markdown",
   "metadata": {},
   "source": [
    "## Accessing/Changing specific elements, rows, columns, etc"
   ]
  },
  {
   "cell_type": "code",
   "execution_count": 11,
   "metadata": {},
   "outputs": [
    {
     "name": "stdout",
     "output_type": "stream",
     "text": [
      "[[ 1  2  3  4  5  6  7]\n",
      " [ 8  9 10 11 12 13 14]]\n"
     ]
    }
   ],
   "source": [
    "a = np.array([[1,2,3,4,5,6,7],[8,9,10,11,12,13,14]])\n",
    "print(a)"
   ]
  },
  {
   "cell_type": "code",
   "execution_count": 12,
   "metadata": {},
   "outputs": [
    {
     "name": "stdout",
     "output_type": "stream",
     "text": [
      "(2, 7)\n"
     ]
    }
   ],
   "source": [
    "# Get shape\n",
    "print(a.shape)"
   ]
  },
  {
   "cell_type": "code",
   "execution_count": 13,
   "metadata": {},
   "outputs": [
    {
     "name": "stdout",
     "output_type": "stream",
     "text": [
      "13\n"
     ]
    }
   ],
   "source": [
    "# Get specif element in the array (r,c)\n",
    "print(a[1,5])"
   ]
  },
  {
   "cell_type": "code",
   "execution_count": 14,
   "metadata": {},
   "outputs": [
    {
     "name": "stdout",
     "output_type": "stream",
     "text": [
      "[1 2 3 4 5 6 7]\n",
      "5\n",
      "[[ 1  2  3  4  5  6  7]\n",
      " [ 8  9 10 11 12 13 14]]\n"
     ]
    }
   ],
   "source": [
    "# Get specific element in row\n",
    "print(a[0,:])\n",
    "print(a[0,4])\n",
    "print(a[0:])"
   ]
  },
  {
   "cell_type": "code",
   "execution_count": 15,
   "metadata": {},
   "outputs": [
    {
     "name": "stdout",
     "output_type": "stream",
     "text": [
      "[ 3 10]\n"
     ]
    }
   ],
   "source": [
    "# Get the specific column\n",
    "\n",
    "print(a[:,2])"
   ]
  },
  {
   "cell_type": "code",
   "execution_count": 16,
   "metadata": {},
   "outputs": [
    {
     "name": "stdout",
     "output_type": "stream",
     "text": [
      "[2 4 6]\n",
      "[ 9 11 13]\n",
      "[2 4]\n"
     ]
    }
   ],
   "source": [
    "# Getting little more fancy elements [startindex:endindex:stepindex]\n",
    "\n",
    "print(a[0,1:6:2])\n",
    "print(a[1,1:14:2])\n",
    "\n",
    "print(a[0,1:-2:2])"
   ]
  },
  {
   "cell_type": "code",
   "execution_count": 17,
   "metadata": {},
   "outputs": [
    {
     "name": "stdout",
     "output_type": "stream",
     "text": [
      "[[ 1  2  3  4  5  6  7]\n",
      " [ 8  9 10 11 12 20 14]]\n",
      "[[ 1  2  5  4  5  6  7]\n",
      " [ 8  9  5 11 12 20 14]]\n",
      "[[ 1  2  1  4  5  6  7]\n",
      " [ 8  9  2 11 12 20 14]]\n"
     ]
    }
   ],
   "source": [
    "#Update the data in particular position\n",
    "\n",
    "a[1,5] = 20\n",
    "print(a)\n",
    "\n",
    "a[:,2] = 5\n",
    "print(a)\n",
    "\n",
    "a[:,2] =[1,2]\n",
    "print(a)"
   ]
  },
  {
   "cell_type": "markdown",
   "metadata": {},
   "source": [
    "### *3-d example"
   ]
  },
  {
   "cell_type": "code",
   "execution_count": 18,
   "metadata": {},
   "outputs": [
    {
     "name": "stdout",
     "output_type": "stream",
     "text": [
      "[[[1 2]\n",
      "  [3 4]]\n",
      "\n",
      " [[5 6]\n",
      "  [7 8]]]\n"
     ]
    }
   ],
   "source": [
    "b = np.array([[[1,2],[3,4]],[[5,6],[7,8]]])\n",
    "print(b)"
   ]
  },
  {
   "cell_type": "code",
   "execution_count": 19,
   "metadata": {},
   "outputs": [
    {
     "name": "stdout",
     "output_type": "stream",
     "text": [
      "4\n",
      "8\n",
      "[[3 4]\n",
      " [7 8]]\n",
      "[4 8]\n"
     ]
    }
   ],
   "source": [
    "# Get specific element\n",
    "\n",
    "print(b[0,1,1])\n",
    "\n",
    "print(b[1,1,1])\n",
    "\n",
    "print(b[:,1,:])\n",
    "\n",
    "print(b[:,1,1])"
   ]
  },
  {
   "cell_type": "code",
   "execution_count": 20,
   "metadata": {},
   "outputs": [
    {
     "name": "stdout",
     "output_type": "stream",
     "text": [
      "[[[1 2]\n",
      "  [9 9]]\n",
      "\n",
      " [[5 6]\n",
      "  [8 8]]]\n"
     ]
    }
   ],
   "source": [
    "# Replace \n",
    "\n",
    "b[:,1,:] =[[9,9],[8,8]]\n",
    "print(b)"
   ]
  },
  {
   "cell_type": "markdown",
   "metadata": {},
   "source": [
    "### Initializing Different Types of Arrays"
   ]
  },
  {
   "cell_type": "code",
   "execution_count": 21,
   "metadata": {},
   "outputs": [
    {
     "data": {
      "text/plain": [
       "array([[[0., 0., 0.],\n",
       "        [0., 0., 0.],\n",
       "        [0., 0., 0.]],\n",
       "\n",
       "       [[0., 0., 0.],\n",
       "        [0., 0., 0.],\n",
       "        [0., 0., 0.]]])"
      ]
     },
     "execution_count": 21,
     "metadata": {},
     "output_type": "execute_result"
    }
   ],
   "source": [
    "# All 0's matrix\n",
    "np.zeros((2,3,3))"
   ]
  },
  {
   "cell_type": "code",
   "execution_count": 22,
   "metadata": {},
   "outputs": [
    {
     "data": {
      "text/plain": [
       "array([[1, 1, 1, 1],\n",
       "       [1, 1, 1, 1]], dtype=int32)"
      ]
     },
     "execution_count": 22,
     "metadata": {},
     "output_type": "execute_result"
    }
   ],
   "source": [
    "# All 1's matrix \n",
    "np.ones((2,4),dtype='int32')"
   ]
  },
  {
   "cell_type": "code",
   "execution_count": 23,
   "metadata": {},
   "outputs": [
    {
     "data": {
      "text/plain": [
       "array([[99., 99.],\n",
       "       [99., 99.],\n",
       "       [99., 99.]], dtype=float32)"
      ]
     },
     "execution_count": 23,
     "metadata": {},
     "output_type": "execute_result"
    }
   ],
   "source": [
    "# Any other numbers\n",
    "\n",
    "np.full((2,3),55)\n",
    "\n",
    "np.full((3,2),99, dtype='float32')"
   ]
  },
  {
   "cell_type": "code",
   "execution_count": 24,
   "metadata": {},
   "outputs": [
    {
     "data": {
      "text/plain": [
       "array([[8, 8, 8, 8, 8, 8, 8],\n",
       "       [8, 8, 8, 8, 8, 8, 8]])"
      ]
     },
     "execution_count": 24,
     "metadata": {},
     "output_type": "execute_result"
    }
   ],
   "source": [
    "# Any other numbers (full-like)\n",
    "np.full_like(a,8)"
   ]
  },
  {
   "cell_type": "code",
   "execution_count": 25,
   "metadata": {},
   "outputs": [
    {
     "data": {
      "text/plain": [
       "array([[0.18917195, 0.19424925, 0.74201173, 0.19970213],\n",
       "       [0.48054658, 0.08353154, 0.7388976 , 0.15736787]])"
      ]
     },
     "execution_count": 25,
     "metadata": {},
     "output_type": "execute_result"
    }
   ],
   "source": [
    "# Random decimal numbers\n",
    "\n",
    "np.random.rand(2,4)"
   ]
  },
  {
   "cell_type": "code",
   "execution_count": 26,
   "metadata": {},
   "outputs": [
    {
     "data": {
      "text/plain": [
       "array([[0.4285064 , 0.27289887, 0.55958192, 0.68460541, 0.23631008,\n",
       "        0.67613693, 0.34032062],\n",
       "       [0.46070351, 0.47831955, 0.89073531, 0.30089059, 0.27884144,\n",
       "        0.35079799, 0.35452096]])"
      ]
     },
     "execution_count": 26,
     "metadata": {},
     "output_type": "execute_result"
    }
   ],
   "source": [
    "np.random.random_sample(a.shape)"
   ]
  },
  {
   "cell_type": "code",
   "execution_count": 27,
   "metadata": {},
   "outputs": [
    {
     "data": {
      "text/plain": [
       "array([[ 7, -2,  0],\n",
       "       [-4, -1,  1],\n",
       "       [ 1, -2,  6]])"
      ]
     },
     "execution_count": 27,
     "metadata": {},
     "output_type": "execute_result"
    }
   ],
   "source": [
    "# Random Integer values\n",
    "np.random.randint(-4,8, size=(3,3))"
   ]
  }
 ],
 "metadata": {
  "kernelspec": {
   "display_name": "Python 3",
   "language": "python",
   "name": "python3"
  },
  "language_info": {
   "codemirror_mode": {
    "name": "ipython",
    "version": 3
   },
   "file_extension": ".py",
   "mimetype": "text/x-python",
   "name": "python",
   "nbconvert_exporter": "python",
   "pygments_lexer": "ipython3",
   "version": "3.11.8"
  }
 },
 "nbformat": 4,
 "nbformat_minor": 2
}
