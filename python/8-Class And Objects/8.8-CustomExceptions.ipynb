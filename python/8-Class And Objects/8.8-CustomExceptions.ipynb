{
 "cells": [
  {
   "cell_type": "markdown",
   "metadata": {},
   "source": [
    "### Custom Exception "
   ]
  },
  {
   "cell_type": "code",
   "execution_count": 1,
   "metadata": {},
   "outputs": [],
   "source": [
    "class Error(Exception):\n",
    "    pass\n",
    "class dobExeption(Error):\n",
    "    pass "
   ]
  },
  {
   "cell_type": "code",
   "execution_count": 3,
   "metadata": {},
   "outputs": [
    {
     "name": "stdout",
     "output_type": "stream",
     "text": [
      "Sorry, your age should greater than 20 or less than 30\n"
     ]
    }
   ],
   "source": [
    "year = int(input(\"Enter the dob\"))\n",
    "age = 2024 - year \n",
    "\n",
    "try:\n",
    "    if age <= 30 and age >=20:\n",
    "        print(\"the age is valid so you can apply for the exam\")\n",
    "    else:\n",
    "        raise dobExeption\n",
    "except dobExeption:\n",
    "    print(\"Sorry, your age should greater than 20 or less than 30\")"
   ]
  }
 ],
 "metadata": {
  "kernelspec": {
   "display_name": "Python 3",
   "language": "python",
   "name": "python3"
  },
  "language_info": {
   "codemirror_mode": {
    "name": "ipython",
    "version": 3
   },
   "file_extension": ".py",
   "mimetype": "text/x-python",
   "name": "python",
   "nbconvert_exporter": "python",
   "pygments_lexer": "ipython3",
   "version": "3.12.0"
  }
 },
 "nbformat": 4,
 "nbformat_minor": 2
}
