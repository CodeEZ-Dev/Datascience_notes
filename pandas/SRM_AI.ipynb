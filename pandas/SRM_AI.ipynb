{
 "cells": [
  {
   "cell_type": "code",
   "execution_count": 1,
   "metadata": {},
   "outputs": [
    {
     "name": "stdout",
     "output_type": "stream",
     "text": [
      "the input is 121\n",
      "The sum of digits <built-in function sum>\n"
     ]
    }
   ],
   "source": [
    "# Sum of Digits\n",
    "sum1=0\n",
    "n = int(input(\"Enter the number: \"))\n",
    "print(f'the input is {n}')\n",
    "while(n>0):\n",
    "    r = n%10\n",
    "    sum1 = sum1 + r \n",
    "    n=n//10\n",
    "print(f'The sum of digits {sum}')"
   ]
  },
  {
   "cell_type": "code",
   "execution_count": 2,
   "metadata": {},
   "outputs": [
    {
     "name": "stdout",
     "output_type": "stream",
     "text": [
      "the input is 153\n",
      "0\n",
      "This is armstrong number\n"
     ]
    }
   ],
   "source": [
    "# armstrong number \n",
    "sum1=0\n",
    "n = int(input(\"Enter the number: \"))\n",
    "print(f'the input is {n}')\n",
    "res = n \n",
    "while(n>0):\n",
    "    r = n%10\n",
    "    sum1 += r ** 3 \n",
    "    n=n//10\n",
    "print(n)\n",
    "if res == sum1:\n",
    "    print('This is armstrong number')\n",
    "else:\n",
    "    print('This is not armstrong number')"
   ]
  },
  {
   "cell_type": "code",
   "execution_count": 3,
   "metadata": {},
   "outputs": [
    {
     "name": "stdout",
     "output_type": "stream",
     "text": [
      "the input is 121\n",
      "The Reverse the number 121\n"
     ]
    }
   ],
   "source": [
    "# Reverse the nnumber\n",
    "sum1=0\n",
    "n = int(input(\"Enter the number: \"))\n",
    "print(f'the input is {n}')\n",
    "while(n>0):\n",
    "    r = n%10\n",
    "    sum1 = sum1*10 + r \n",
    "    n=n//10\n",
    "print(f'The Reverse the number {sum1}')"
   ]
  },
  {
   "cell_type": "code",
   "execution_count": 4,
   "metadata": {},
   "outputs": [
    {
     "name": "stdout",
     "output_type": "stream",
     "text": [
      "the input is 320\n",
      "0\n",
      "This is not Palindrom number\n"
     ]
    }
   ],
   "source": [
    "# Palindrom number \n",
    "sum1=0\n",
    "n = int(input(\"Enter the number: \"))\n",
    "print(f'the input is {n}')\n",
    "res = n \n",
    "while(n>0):\n",
    "    r = n%10\n",
    "    sum1 = sum1 *10 + r\n",
    "    n=n//10\n",
    "print(n)\n",
    "if res == sum1:\n",
    "    print('This is Palindrom number')\n",
    "else:\n",
    "    print('This is not Palindrom number')"
   ]
  },
  {
   "cell_type": "code",
   "execution_count": 5,
   "metadata": {},
   "outputs": [
    {
     "name": "stdout",
     "output_type": "stream",
     "text": [
      "Congratulations, You got O grade\n"
     ]
    }
   ],
   "source": [
    "res = int(input(\"Enter your marks\"))\n",
    "\n",
    "if res >= 95:\n",
    "    print('Congratulations, You got O grade')\n",
    "elif res >= 90:\n",
    "    print('Congratulations, You got A grade')\n",
    "elif res >= 80:\n",
    "    print('Congratulations, You got B grade')\n",
    "else:\n",
    "    print('Congratulations, You got C grade')"
   ]
  },
  {
   "cell_type": "code",
   "execution_count": 6,
   "metadata": {},
   "outputs": [
    {
     "name": "stdout",
     "output_type": "stream",
     "text": [
      "15\n"
     ]
    }
   ],
   "source": [
    "list_val = [1,2,3,4,5]\n",
    "res = sum(list_val)\n",
    "print(res)"
   ]
  },
  {
   "cell_type": "code",
   "execution_count": 7,
   "metadata": {},
   "outputs": [
    {
     "name": "stdout",
     "output_type": "stream",
     "text": [
      "It is perfect number\n"
     ]
    }
   ],
   "source": [
    "def check_perfect_num(number):\n",
    "    divisor = sum([i for i in range(1,number) if number % i == 0])\n",
    "    return number == divisor \n",
    "\n",
    "input_num = int(input(\"Enter the perfect number: \"))\n",
    "\n",
    "if check_perfect_num(input_num):\n",
    "    print(f'It is perfect number')\n",
    "else:\n",
    "    print('It is not perfect number ')"
   ]
  },
  {
   "cell_type": "code",
   "execution_count": 8,
   "metadata": {},
   "outputs": [
    {
     "name": "stdout",
     "output_type": "stream",
     "text": [
      "It is perfect number\n"
     ]
    }
   ],
   "source": [
    "def check_perfect_num(number):\n",
    "    for i in range(1,number):\n",
    "        if number % i == 0:\n",
    "            return i\n",
    "\n",
    "input_num = int(input(\"Enter the perfect number: \"))\n",
    "\n",
    "if check_perfect_num(input_num):\n",
    "    print(f'It is perfect number')\n",
    "else:\n",
    "    print('It is not perfect number ')"
   ]
  },
  {
   "cell_type": "code",
   "execution_count": 11,
   "metadata": {},
   "outputs": [
    {
     "name": "stdout",
     "output_type": "stream",
     "text": [
      "It is perfect number\n"
     ]
    }
   ],
   "source": [
    "input_num = int(input(\"Enter the perfect number: \"))\n",
    "sum = 0\n",
    "for i in range(1,input_num):\n",
    "        if input_num % i == 0:\n",
    "            sum += i\n",
    "if sum:\n",
    "    print(f'It is perfect number')\n",
    "else:\n",
    "    print('It is not perfect number ')\n"
   ]
  },
  {
   "cell_type": "code",
   "execution_count": 13,
   "metadata": {},
   "outputs": [
    {
     "name": "stdout",
     "output_type": "stream",
     "text": [
      "[1, 2, 3, 4, 5, 6]\n"
     ]
    }
   ],
   "source": [
    "l = [1,2,3,4,5]\n",
    "l.append(6)\n",
    "print(l)"
   ]
  },
  {
   "cell_type": "code",
   "execution_count": 14,
   "metadata": {},
   "outputs": [
    {
     "data": {
      "text/plain": [
       "3"
      ]
     },
     "execution_count": 14,
     "metadata": {},
     "output_type": "execute_result"
    }
   ],
   "source": [
    "l.pop(2)"
   ]
  },
  {
   "cell_type": "code",
   "execution_count": 15,
   "metadata": {},
   "outputs": [
    {
     "name": "stdout",
     "output_type": "stream",
     "text": [
      "[1, 2, 4, 5, 6]\n"
     ]
    }
   ],
   "source": [
    "print(l)"
   ]
  },
  {
   "cell_type": "code",
   "execution_count": 16,
   "metadata": {},
   "outputs": [
    {
     "name": "stdout",
     "output_type": "stream",
     "text": [
      "10\n"
     ]
    }
   ],
   "source": [
    "# integer\n",
    "num = 10\n",
    "print(num)"
   ]
  },
  {
   "cell_type": "code",
   "execution_count": 17,
   "metadata": {},
   "outputs": [
    {
     "name": "stdout",
     "output_type": "stream",
     "text": [
      "10.1\n"
     ]
    }
   ],
   "source": [
    "# Float\n",
    "float_num = 10.10\n",
    "print(float_num)"
   ]
  },
  {
   "cell_type": "code",
   "execution_count": 18,
   "metadata": {},
   "outputs": [
    {
     "name": "stdout",
     "output_type": "stream",
     "text": [
      "Murali\n"
     ]
    }
   ],
   "source": [
    "String_val = 'Murali'\n",
    "print(String_val)"
   ]
  },
  {
   "cell_type": "code",
   "execution_count": 19,
   "metadata": {},
   "outputs": [
    {
     "name": "stdout",
     "output_type": "stream",
     "text": [
      "True\n"
     ]
    }
   ],
   "source": [
    "Bool_val = True\n",
    "print(Bool_val)"
   ]
  },
  {
   "cell_type": "code",
   "execution_count": 24,
   "metadata": {},
   "outputs": [
    {
     "name": "stdout",
     "output_type": "stream",
     "text": [
      "2\n",
      "<class 'int'>\n"
     ]
    }
   ],
   "source": [
    "str1 = '1 cookie'\n",
    "str2 = 'cookie'\n",
    "a = str1.find(str2)\n",
    "print(a)\n",
    "print(type(a))"
   ]
  },
  {
   "cell_type": "code",
   "execution_count": 25,
   "metadata": {},
   "outputs": [
    {
     "ename": "TypeError",
     "evalue": "can only concatenate str (not \"int\") to str",
     "output_type": "error",
     "traceback": [
      "\u001b[0;31m---------------------------------------------------------------------------\u001b[0m",
      "\u001b[0;31mTypeError\u001b[0m                                 Traceback (most recent call last)",
      "Cell \u001b[0;32mIn[25], line 3\u001b[0m\n\u001b[1;32m      1\u001b[0m x \u001b[38;5;241m=\u001b[39m \u001b[38;5;241m2\u001b[39m\n\u001b[1;32m      2\u001b[0m y \u001b[38;5;241m=\u001b[39m \u001b[38;5;124m'\u001b[39m\u001b[38;5;124mMurali\u001b[39m\u001b[38;5;124m'\u001b[39m\n\u001b[0;32m----> 3\u001b[0m z \u001b[38;5;241m=\u001b[39m \u001b[43my\u001b[49m\u001b[43m \u001b[49m\u001b[38;5;241;43m+\u001b[39;49m\u001b[43mx\u001b[49m \n",
      "\u001b[0;31mTypeError\u001b[0m: can only concatenate str (not \"int\") to str"
     ]
    }
   ],
   "source": [
    "x = 2\n",
    "y = 'Murali'\n",
    "z = y +x "
   ]
  },
  {
   "cell_type": "code",
   "execution_count": 27,
   "metadata": {},
   "outputs": [
    {
     "name": "stdout",
     "output_type": "stream",
     "text": [
      "[1, 'orange', 3]\n"
     ]
    }
   ],
   "source": [
    "x2=list([1,'apply',3])\n",
    "x2[1] = 'orange'\n",
    "\n",
    "print(x2)"
   ]
  },
  {
   "cell_type": "code",
   "execution_count": 28,
   "metadata": {},
   "outputs": [
    {
     "data": {
      "text/plain": [
       "3"
      ]
     },
     "execution_count": 28,
     "metadata": {},
     "output_type": "execute_result"
    }
   ],
   "source": [
    "l = [1,2,3,4]\n",
    "l.pop(-2)\n"
   ]
  },
  {
   "cell_type": "code",
   "execution_count": 32,
   "metadata": {},
   "outputs": [
    {
     "name": "stdout",
     "output_type": "stream",
     "text": [
      "None\n"
     ]
    }
   ],
   "source": [
    "l1=l.sort()\n",
    "print(l1)"
   ]
  },
  {
   "cell_type": "code",
   "execution_count": 35,
   "metadata": {},
   "outputs": [
    {
     "name": "stdout",
     "output_type": "stream",
     "text": [
      "array('u', 'cats')\n"
     ]
    }
   ],
   "source": [
    "import array\n",
    "array_char = array.array('u',['c','a','t','s'])\n",
    "array_char.tolist()\n",
    "print(array_char)"
   ]
  }
 ],
 "metadata": {
  "kernelspec": {
   "display_name": "Python 3",
   "language": "python",
   "name": "python3"
  },
  "language_info": {
   "codemirror_mode": {
    "name": "ipython",
    "version": 3
   },
   "file_extension": ".py",
   "mimetype": "text/x-python",
   "name": "python",
   "nbconvert_exporter": "python",
   "pygments_lexer": "ipython3",
   "version": "3.12.0"
  }
 },
 "nbformat": 4,
 "nbformat_minor": 2
}
