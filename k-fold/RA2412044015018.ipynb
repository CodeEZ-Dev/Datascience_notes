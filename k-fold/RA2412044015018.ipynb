{
 "cells": [
  {
   "cell_type": "markdown",
   "metadata": {},
   "source": [
    "# ML Lab with the 26-10-2024, Reg Number - RA2412044015018"
   ]
  },
  {
   "cell_type": "code",
   "execution_count": 1,
   "metadata": {},
   "outputs": [],
   "source": [
    "# Importing necessary libraries\n",
    "from sklearn.datasets import load_iris\n",
    "from sklearn.model_selection import train_test_split\n",
    "from sklearn.preprocessing import StandardScaler\n",
    "import pandas as pd\n",
    "import numpy as np\n",
    "from sklearn.model_selection import train_test_split\n",
    "from sklearn.linear_model import LogisticRegression\n",
    "from sklearn.tree import DecisionTreeClassifier\n",
    "from sklearn.metrics import accuracy_score\n",
    "from sklearn.model_selection import KFold"
   ]
  },
  {
   "cell_type": "markdown",
   "metadata": {},
   "source": [
    "# Load the data set from the Sklearn "
   ]
  },
  {
   "cell_type": "code",
   "execution_count": 2,
   "metadata": {},
   "outputs": [
    {
     "name": "stdout",
     "output_type": "stream",
     "text": [
      "No missing values found in the dataset.\n",
      "   sepal length (cm)  sepal width (cm)  petal length (cm)  petal width (cm)  \\\n",
      "0          -0.900681          1.019004          -1.340227         -1.315444   \n",
      "1          -1.143017         -0.131979          -1.340227         -1.315444   \n",
      "2          -1.385353          0.328414          -1.397064         -1.315444   \n",
      "3          -1.506521          0.098217          -1.283389         -1.315444   \n",
      "4          -1.021849          1.249201          -1.340227         -1.315444   \n",
      "\n",
      "   target  \n",
      "0       0  \n",
      "1       0  \n",
      "2       0  \n",
      "3       0  \n",
      "4       0  \n"
     ]
    }
   ],
   "source": [
    "# Load the Iris dataset\n",
    "iris = load_iris()\n",
    "X = iris.data\n",
    "y = iris.target\n",
    "\n",
    "# Converting to DataFrame for easier manipulation\n",
    "df = pd.DataFrame(X, columns=iris.feature_names)\n",
    "df['target'] = y\n",
    "\n",
    "# Step 1: Checking for missing values\n",
    "if df.isnull().sum().sum() == 0:\n",
    "    print(\"No missing values found in the dataset.\")\n",
    "else:\n",
    "    # If there were missing values, we could use imputation methods\n",
    "    df.fillna(df.mean(), inplace=True)\n",
    "\n",
    "# Step 2: Encoding categorical variables\n",
    "# For the Iris dataset, the target variable is already numerical\n",
    "\n",
    "# Step 3: Normalizing the features\n",
    "scaler = StandardScaler()\n",
    "X_scaled = scaler.fit_transform(X)\n",
    "\n",
    "# Displaying the first few rows of the preprocessed data\n",
    "preprocessed_df = pd.DataFrame(X_scaled, columns=iris.feature_names)\n",
    "preprocessed_df['target'] = y\n",
    "print(preprocessed_df.head())"
   ]
  },
  {
   "cell_type": "markdown",
   "metadata": {},
   "source": [
    "# Train and test the split from the given data set "
   ]
  },
  {
   "cell_type": "code",
   "execution_count": 3,
   "metadata": {},
   "outputs": [
    {
     "name": "stdout",
     "output_type": "stream",
     "text": [
      "Accuracy with a single train-test split: 1.0000\n"
     ]
    }
   ],
   "source": [
    "# Split the dataset into 80% training and 20% testing\n",
    "X_train, X_test, y_train, y_test = train_test_split(X_scaled, y, test_size=0.2, random_state=42)\n",
    "\n",
    "# Train a Logistic Regression classifier on the training set\n",
    "model = LogisticRegression()\n",
    "model.fit(X_train, y_train)\n",
    "\n",
    "# Predict on the test set and calculate accuracy\n",
    "y_pred = model.predict(X_test)\n",
    "accuracy_single_split = accuracy_score(y_test, y_pred)\n",
    "print(f\"Accuracy with a single train-test split: {accuracy_single_split:.4f}\")"
   ]
  },
  {
   "cell_type": "code",
   "execution_count": 4,
   "metadata": {},
   "outputs": [
    {
     "name": "stdout",
     "output_type": "stream",
     "text": [
      "Accuracy with a single train-test split: 1.0000\n"
     ]
    }
   ],
   "source": [
    "# Train a Logistic Regression classifier on the training set\n",
    "model1 = DecisionTreeClassifier()\n",
    "model1.fit(X_train, y_train)\n",
    "\n",
    "# Predict on the test set and calculate accuracy\n",
    "y_pred = model1.predict(X_test)\n",
    "accuracy_single_split1 = accuracy_score(y_test, y_pred)\n",
    "print(f\"Accuracy with a single train-test split: {accuracy_single_split1:.4f}\")"
   ]
  },
  {
   "cell_type": "markdown",
   "metadata": {},
   "source": [
    "## Given data set Kfold with 5 times "
   ]
  },
  {
   "cell_type": "code",
   "execution_count": 5,
   "metadata": {},
   "outputs": [
    {
     "name": "stdout",
     "output_type": "stream",
     "text": [
      "Average accuracy with 5-Fold Cross-Validation: 0.9600\n",
      "Accuracy for fold 1: 1.0000\n",
      "Accuracy for fold 2: 0.9667\n",
      "Accuracy for fold 3: 0.9333\n",
      "Accuracy for fold 4: 0.9333\n",
      "Accuracy for fold 5: 0.9667\n"
     ]
    }
   ],
   "source": [
    "\n",
    "\n",
    "# Set up K-Fold Cross-Validation with 5 folds\n",
    "kf = KFold(n_splits=5, shuffle=True, random_state=42)\n",
    "model = LogisticRegression()\n",
    "\n",
    "# List to store accuracy scores for each fold\n",
    "accuracy_scores = []\n",
    "\n",
    "# Perform K-Fold Cross-Validation\n",
    "for train_index, test_index in kf.split(X_scaled):\n",
    "    X_train_fold, X_test_fold = X_scaled[train_index], X_scaled[test_index]\n",
    "    y_train_fold, y_test_fold = y[train_index], y[test_index]\n",
    "\n",
    "    # Train the model on the training fold\n",
    "    model.fit(X_train_fold, y_train_fold)\n",
    "\n",
    "    # Evaluate the model on the testing fold\n",
    "    y_pred_fold = model.predict(X_test_fold)\n",
    "    accuracy = accuracy_score(y_test_fold, y_pred_fold)\n",
    "    accuracy_scores.append(accuracy)\n",
    "\n",
    "# Step 4: Compute the average accuracy across all folds\n",
    "average_accuracy_kfold = np.mean(accuracy_scores)\n",
    "print(f\"Average accuracy with 5-Fold Cross-Validation: {average_accuracy_kfold:.4f}\")\n",
    "\n",
    "# Step 5: Print the accuracy of each fold\n",
    "for i, acc in enumerate(accuracy_scores):\n",
    "    print(f\"Accuracy for fold {i+1}: {acc:.4f}\")\n"
   ]
  },
  {
   "cell_type": "code",
   "execution_count": 6,
   "metadata": {},
   "outputs": [
    {
     "name": "stdout",
     "output_type": "stream",
     "text": [
      "Average accuracy with 5-Fold Cross-Validation: 0.9600\n",
      "Accuracy for fold 1: 1.0000\n",
      "Accuracy for fold 2: 0.9667\n",
      "Accuracy for fold 3: 0.9333\n",
      "Accuracy for fold 4: 0.9333\n",
      "Accuracy for fold 5: 0.9333\n"
     ]
    }
   ],
   "source": [
    "\n",
    "\n",
    "# Set up K-Fold Cross-Validation with 5 folds\n",
    "kf = KFold(n_splits=5, shuffle=True, random_state=42)\n",
    "model = DecisionTreeClassifier()\n",
    "\n",
    "# List to store accuracy scores for each fold\n",
    "accuracy_scores1 = []\n",
    "\n",
    "# Perform K-Fold Cross-Validation\n",
    "for train_index, test_index in kf.split(X_scaled):\n",
    "    X_train_fold, X_test_fold = X_scaled[train_index], X_scaled[test_index]\n",
    "    y_train_fold, y_test_fold = y[train_index], y[test_index]\n",
    "\n",
    "    # Train the model on the training fold\n",
    "    model1.fit(X_train_fold, y_train_fold)\n",
    "\n",
    "    # Evaluate the model on the testing fold\n",
    "    y_pred_fold = model1.predict(X_test_fold)\n",
    "    accuracy = accuracy_score(y_test_fold, y_pred_fold)\n",
    "    accuracy_scores1.append(accuracy)\n",
    "\n",
    "# Step 4: Compute the average accuracy across all folds\n",
    "average_accuracy_kfold1 = np.mean(accuracy_scores)\n",
    "print(f\"Average accuracy with 5-Fold Cross-Validation: {average_accuracy_kfold:.4f}\")\n",
    "\n",
    "# Step 5: Print the accuracy of each fold\n",
    "for i, acc in enumerate(accuracy_scores1):\n",
    "    print(f\"Accuracy for fold {i+1}: {acc:.4f}\")\n"
   ]
  },
  {
   "cell_type": "code",
   "execution_count": 7,
   "metadata": {},
   "outputs": [
    {
     "name": "stdout",
     "output_type": "stream",
     "text": [
      "Single train-test split accuracy LogisticRegression: 1.0000\n",
      "5-Fold Cross-Validation average accuracy LogisticRegression: 0.9600\n"
     ]
    }
   ],
   "source": [
    "print(f\"Single train-test split accuracy LogisticRegression: {accuracy_single_split:.4f}\")\n",
    "print(f\"5-Fold Cross-Validation average accuracy LogisticRegression: {average_accuracy_kfold:.4f}\")\n"
   ]
  },
  {
   "cell_type": "code",
   "execution_count": 8,
   "metadata": {},
   "outputs": [
    {
     "name": "stdout",
     "output_type": "stream",
     "text": [
      "Single train-test split accuracy Decison Tree: 1.0000\n",
      "5-Fold Cross-Validation average accuracy Decistion Tree: 0.9600\n"
     ]
    }
   ],
   "source": [
    "print(f\"Single train-test split accuracy Decison Tree: {accuracy_single_split1:.4f}\")\n",
    "print(f\"5-Fold Cross-Validation average accuracy Decistion Tree: {average_accuracy_kfold1:.4f}\")\n"
   ]
  },
  {
   "cell_type": "markdown",
   "metadata": {},
   "source": [
    "## Stratified the cross validation "
   ]
  },
  {
   "cell_type": "code",
   "execution_count": 9,
   "metadata": {},
   "outputs": [
    {
     "name": "stdout",
     "output_type": "stream",
     "text": [
      "Average accuracy with Stratified K-Fold Cross-Validation: 0.9533\n",
      "Average accuracy with simple K-Fold: 0.9600\n",
      "Average accuracy with Stratified K-Fold: 0.9533\n"
     ]
    }
   ],
   "source": [
    "from sklearn.model_selection import StratifiedKFold\n",
    "\n",
    "# Set up Stratified K-Fold Cross-Validation\n",
    "skf = StratifiedKFold(n_splits=5, shuffle=True, random_state=42)\n",
    "model = LogisticRegression()\n",
    "\n",
    "# List to store accuracy scores for each fold\n",
    "accuracy_scores_stratified = []\n",
    "\n",
    "# Perform Stratified K-Fold Cross-Validation\n",
    "for train_index, test_index in skf.split(X_scaled, y):\n",
    "    X_train_fold, X_test_fold = X_scaled[train_index], X_scaled[test_index]\n",
    "    y_train_fold, y_test_fold = y[train_index], y[test_index]\n",
    "\n",
    "    # Train the model on the training fold\n",
    "    model.fit(X_train_fold, y_train_fold)\n",
    "\n",
    "    # Evaluate the model on the testing fold\n",
    "    y_pred_fold = model.predict(X_test_fold)\n",
    "    accuracy = accuracy_score(y_test_fold, y_pred_fold)\n",
    "    accuracy_scores_stratified.append(accuracy)\n",
    "\n",
    "# Calculate the average accuracy for Stratified K-Fold\n",
    "average_accuracy_stratified = np.mean(accuracy_scores_stratified)\n",
    "print(f\"Average accuracy with Stratified K-Fold Cross-Validation: {average_accuracy_stratified:.4f}\")\n",
    "\n",
    "# Comparison with regular K-Fold\n",
    "print(f\"Average accuracy with simple K-Fold: {average_accuracy_kfold:.4f}\")\n",
    "print(f\"Average accuracy with Stratified K-Fold: {average_accuracy_stratified:.4f}\")\n"
   ]
  },
  {
   "cell_type": "code",
   "execution_count": 10,
   "metadata": {},
   "outputs": [
    {
     "name": "stdout",
     "output_type": "stream",
     "text": [
      "Average accuracy with Stratified K-Fold Cross-Validation decison Tree: 0.9533\n",
      "Average accuracy with simple K-Fold Decision Tree: 0.9600\n",
      "Average accuracy with Stratified K-Fold Decision Tree: 0.9533\n"
     ]
    }
   ],
   "source": [
    "from sklearn.model_selection import StratifiedKFold\n",
    "\n",
    "# Set up Stratified K-Fold Cross-Validation\n",
    "skf = StratifiedKFold(n_splits=5, shuffle=True, random_state=42)\n",
    "decision_model = DecisionTreeClassifier()\n",
    "\n",
    "# List to store accuracy scores for each fold\n",
    "accuracy_scores_stratified1 = []\n",
    "\n",
    "# Perform Stratified K-Fold Cross-Validation\n",
    "for train_index, test_index in skf.split(X_scaled, y):\n",
    "    X_train_fold, X_test_fold = X_scaled[train_index], X_scaled[test_index]\n",
    "    y_train_fold, y_test_fold = y[train_index], y[test_index]\n",
    "\n",
    "    # Train the model on the training fold\n",
    "    decision_model.fit(X_train_fold, y_train_fold)\n",
    "\n",
    "    # Evaluate the model on the testing fold\n",
    "    y_pred_fold = decision_model.predict(X_test_fold)\n",
    "    accuracy = accuracy_score(y_test_fold, y_pred_fold)\n",
    "    accuracy_scores_stratified1.append(accuracy)\n",
    "\n",
    "# Calculate the average accuracy for Stratified K-Fold\n",
    "average_accuracy_stratified1 = np.mean(accuracy_scores_stratified1)\n",
    "print(f\"Average accuracy with Stratified K-Fold Cross-Validation decison Tree: {average_accuracy_stratified1:.4f}\")\n",
    "\n",
    "# Comparison with regular K-Fold\n",
    "print(f\"Average accuracy with simple K-Fold Decision Tree: {average_accuracy_kfold:.4f}\")\n",
    "print(f\"Average accuracy with Stratified K-Fold Decision Tree: {average_accuracy_stratified1:.4f}\")\n"
   ]
  }
 ],
 "metadata": {
  "kernelspec": {
   "display_name": "Python 3",
   "language": "python",
   "name": "python3"
  },
  "language_info": {
   "codemirror_mode": {
    "name": "ipython",
    "version": 3
   },
   "file_extension": ".py",
   "mimetype": "text/x-python",
   "name": "python",
   "nbconvert_exporter": "python",
   "pygments_lexer": "ipython3",
   "version": "3.12.0"
  }
 },
 "nbformat": 4,
 "nbformat_minor": 2
}
