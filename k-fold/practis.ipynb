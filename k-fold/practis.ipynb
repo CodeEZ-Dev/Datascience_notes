{
 "cells": [
  {
   "cell_type": "code",
   "execution_count": 2,
   "metadata": {},
   "outputs": [],
   "source": [
    "import pandas as pd\n",
    "import numpy as np\n",
    "\n",
    "# Step 1: Load a dataset into a Pandas DataFrame\n",
    "# For the purpose of this example, let's create a sample DataFrame\n",
    "data = {\n",
    "    'Name': ['Alice', 'Bob', 'Charlie', 'David', 'Eva', 'Frank', None, 'Hannah', 'Isaac', 'Jack'],\n",
    "    'Age': [25, np.nan, 30, 22, np.nan, 35, 28, 26, 40, 21],\n",
    "    'City': ['New York', 'Los Angeles', None, 'Chicago', 'Miami', 'New York', 'Chicago', None, 'Miami', 'Los Angeles'],\n",
    "    'Salary': [70000, 80000, np.nan, 62000, 70000, None, 58000, 85000, 90000, 52000]\n",
    "}\n",
    "df = pd.DataFrame(data)"
   ]
  },
  {
   "cell_type": "code",
   "execution_count": 3,
   "metadata": {},
   "outputs": [
    {
     "data": {
      "text/html": [
       "<div>\n",
       "<style scoped>\n",
       "    .dataframe tbody tr th:only-of-type {\n",
       "        vertical-align: middle;\n",
       "    }\n",
       "\n",
       "    .dataframe tbody tr th {\n",
       "        vertical-align: top;\n",
       "    }\n",
       "\n",
       "    .dataframe thead th {\n",
       "        text-align: right;\n",
       "    }\n",
       "</style>\n",
       "<table border=\"1\" class=\"dataframe\">\n",
       "  <thead>\n",
       "    <tr style=\"text-align: right;\">\n",
       "      <th></th>\n",
       "      <th>Name</th>\n",
       "      <th>Age</th>\n",
       "      <th>City</th>\n",
       "      <th>Salary</th>\n",
       "    </tr>\n",
       "  </thead>\n",
       "  <tbody>\n",
       "    <tr>\n",
       "      <th>0</th>\n",
       "      <td>Alice</td>\n",
       "      <td>25.0</td>\n",
       "      <td>New York</td>\n",
       "      <td>70000.0</td>\n",
       "    </tr>\n",
       "    <tr>\n",
       "      <th>1</th>\n",
       "      <td>Bob</td>\n",
       "      <td>NaN</td>\n",
       "      <td>Los Angeles</td>\n",
       "      <td>80000.0</td>\n",
       "    </tr>\n",
       "    <tr>\n",
       "      <th>2</th>\n",
       "      <td>Charlie</td>\n",
       "      <td>30.0</td>\n",
       "      <td>None</td>\n",
       "      <td>NaN</td>\n",
       "    </tr>\n",
       "    <tr>\n",
       "      <th>3</th>\n",
       "      <td>David</td>\n",
       "      <td>22.0</td>\n",
       "      <td>Chicago</td>\n",
       "      <td>62000.0</td>\n",
       "    </tr>\n",
       "    <tr>\n",
       "      <th>4</th>\n",
       "      <td>Eva</td>\n",
       "      <td>NaN</td>\n",
       "      <td>Miami</td>\n",
       "      <td>70000.0</td>\n",
       "    </tr>\n",
       "  </tbody>\n",
       "</table>\n",
       "</div>"
      ],
      "text/plain": [
       "      Name   Age         City   Salary\n",
       "0    Alice  25.0     New York  70000.0\n",
       "1      Bob   NaN  Los Angeles  80000.0\n",
       "2  Charlie  30.0         None      NaN\n",
       "3    David  22.0      Chicago  62000.0\n",
       "4      Eva   NaN        Miami  70000.0"
      ]
     },
     "execution_count": 3,
     "metadata": {},
     "output_type": "execute_result"
    }
   ],
   "source": [
    "df.head()"
   ]
  },
  {
   "cell_type": "code",
   "execution_count": 4,
   "metadata": {},
   "outputs": [
    {
     "name": "stderr",
     "output_type": "stream",
     "text": [
      "/var/folders/qj/948gfl_s7ps7l_t1pwg1clpc0000gn/T/ipykernel_10075/3291632863.py:1: FutureWarning: A value is trying to be set on a copy of a DataFrame or Series through chained assignment using an inplace method.\n",
      "The behavior will change in pandas 3.0. This inplace method will never work because the intermediate object on which we are setting values always behaves as a copy.\n",
      "\n",
      "For example, when doing 'df[col].method(value, inplace=True)', try using 'df.method({col: value}, inplace=True)' or df[col] = df[col].method(value) instead, to perform the operation inplace on the original object.\n",
      "\n",
      "\n",
      "  df['Age'].fillna(df['Age'].mean(),inplace=True)\n",
      "/var/folders/qj/948gfl_s7ps7l_t1pwg1clpc0000gn/T/ipykernel_10075/3291632863.py:2: FutureWarning: A value is trying to be set on a copy of a DataFrame or Series through chained assignment using an inplace method.\n",
      "The behavior will change in pandas 3.0. This inplace method will never work because the intermediate object on which we are setting values always behaves as a copy.\n",
      "\n",
      "For example, when doing 'df[col].method(value, inplace=True)', try using 'df.method({col: value}, inplace=True)' or df[col] = df[col].method(value) instead, to perform the operation inplace on the original object.\n",
      "\n",
      "\n",
      "  df['Salary'].fillna(df['Salary'].mean(),inplace=True)\n"
     ]
    }
   ],
   "source": [
    "df['Age'].fillna(df['Age'].mean(),inplace=True)\n",
    "df['Salary'].fillna(df['Salary'].mean(),inplace=True)"
   ]
  },
  {
   "cell_type": "code",
   "execution_count": 6,
   "metadata": {},
   "outputs": [],
   "source": [
    "df.drop(columns='City',inplace=True)"
   ]
  },
  {
   "cell_type": "code",
   "execution_count": 7,
   "metadata": {},
   "outputs": [
    {
     "data": {
      "text/html": [
       "<div>\n",
       "<style scoped>\n",
       "    .dataframe tbody tr th:only-of-type {\n",
       "        vertical-align: middle;\n",
       "    }\n",
       "\n",
       "    .dataframe tbody tr th {\n",
       "        vertical-align: top;\n",
       "    }\n",
       "\n",
       "    .dataframe thead th {\n",
       "        text-align: right;\n",
       "    }\n",
       "</style>\n",
       "<table border=\"1\" class=\"dataframe\">\n",
       "  <thead>\n",
       "    <tr style=\"text-align: right;\">\n",
       "      <th></th>\n",
       "      <th>Name</th>\n",
       "      <th>Age</th>\n",
       "      <th>Salary</th>\n",
       "    </tr>\n",
       "  </thead>\n",
       "  <tbody>\n",
       "    <tr>\n",
       "      <th>0</th>\n",
       "      <td>Alice</td>\n",
       "      <td>25.000</td>\n",
       "      <td>70000.0</td>\n",
       "    </tr>\n",
       "    <tr>\n",
       "      <th>1</th>\n",
       "      <td>Bob</td>\n",
       "      <td>28.375</td>\n",
       "      <td>80000.0</td>\n",
       "    </tr>\n",
       "    <tr>\n",
       "      <th>2</th>\n",
       "      <td>Charlie</td>\n",
       "      <td>30.000</td>\n",
       "      <td>70875.0</td>\n",
       "    </tr>\n",
       "    <tr>\n",
       "      <th>3</th>\n",
       "      <td>David</td>\n",
       "      <td>22.000</td>\n",
       "      <td>62000.0</td>\n",
       "    </tr>\n",
       "    <tr>\n",
       "      <th>4</th>\n",
       "      <td>Eva</td>\n",
       "      <td>28.375</td>\n",
       "      <td>70000.0</td>\n",
       "    </tr>\n",
       "  </tbody>\n",
       "</table>\n",
       "</div>"
      ],
      "text/plain": [
       "      Name     Age   Salary\n",
       "0    Alice  25.000  70000.0\n",
       "1      Bob  28.375  80000.0\n",
       "2  Charlie  30.000  70875.0\n",
       "3    David  22.000  62000.0\n",
       "4      Eva  28.375  70000.0"
      ]
     },
     "execution_count": 7,
     "metadata": {},
     "output_type": "execute_result"
    }
   ],
   "source": [
    "df.head()"
   ]
  },
  {
   "cell_type": "code",
   "execution_count": 8,
   "metadata": {},
   "outputs": [],
   "source": [
    "grouped = df.groupby('Name').agg({\n",
    "'Age':'mean',\n",
    "'Salary':'sum'\n",
    "}).reset_index()"
   ]
  },
  {
   "cell_type": "code",
   "execution_count": 9,
   "metadata": {},
   "outputs": [],
   "source": [
    "summary_stats = df.describe()"
   ]
  },
  {
   "cell_type": "code",
   "execution_count": 10,
   "metadata": {},
   "outputs": [
    {
     "name": "stdout",
     "output_type": "stream",
     "text": [
      "First 10 rows of the DataFrame:\n",
      "      Name     Age   Salary\n",
      "0    Alice  25.000  70000.0\n",
      "1      Bob  28.375  80000.0\n",
      "2  Charlie  30.000  70875.0\n",
      "3    David  22.000  62000.0\n",
      "4      Eva  28.375  70000.0\n",
      "5    Frank  35.000  70875.0\n",
      "6     None  28.000  58000.0\n",
      "7   Hannah  26.000  85000.0\n",
      "8    Isaac  40.000  90000.0\n",
      "9     Jack  21.000  52000.0\n",
      "\n",
      "Grouped Data:\n",
      "      Name     Age   Salary\n",
      "0    Alice  25.000  70000.0\n",
      "1      Bob  28.375  80000.0\n",
      "2  Charlie  30.000  70875.0\n",
      "3    David  22.000  62000.0\n",
      "4      Eva  28.375  70000.0\n",
      "5    Frank  35.000  70875.0\n",
      "6   Hannah  26.000  85000.0\n",
      "7    Isaac  40.000  90000.0\n",
      "8     Jack  21.000  52000.0\n",
      "\n",
      "Summary Statistics:\n",
      "             Age        Salary\n",
      "count  10.000000     10.000000\n",
      "mean   28.375000  70875.000000\n",
      "std     5.714261  11789.237088\n",
      "min    21.000000  52000.000000\n",
      "25%    25.250000  64000.000000\n",
      "50%    28.187500  70437.500000\n",
      "75%    29.593750  77718.750000\n",
      "max    40.000000  90000.000000\n",
      "\n",
      "Sorted DataFrame by Salary:\n",
      "      Name     Age   Salary\n",
      "8    Isaac  40.000  90000.0\n",
      "7   Hannah  26.000  85000.0\n",
      "1      Bob  28.375  80000.0\n",
      "2  Charlie  30.000  70875.0\n",
      "5    Frank  35.000  70875.0\n",
      "0    Alice  25.000  70000.0\n",
      "4      Eva  28.375  70000.0\n",
      "3    David  22.000  62000.0\n",
      "6     None  28.000  58000.0\n",
      "9     Jack  21.000  52000.0\n",
      "\n",
      "Filtered DataFrame (Age > 25):\n",
      "      Name     Age   Salary\n",
      "1      Bob  28.375  80000.0\n",
      "2  Charlie  30.000  70875.0\n",
      "4      Eva  28.375  70000.0\n",
      "5    Frank  35.000  70875.0\n",
      "6     None  28.000  58000.0\n",
      "7   Hannah  26.000  85000.0\n",
      "8    Isaac  40.000  90000.0\n"
     ]
    }
   ],
   "source": [
    "# Step 5: Display the first 10 rows of the DataFrame\n",
    "print(\"First 10 rows of the DataFrame:\")\n",
    "print(df.head(10))\n",
    "\n",
    "# Display grouped data\n",
    "print(\"\\nGrouped Data:\")\n",
    "print(grouped)\n",
    "\n",
    "# Display summary statistics\n",
    "print(\"\\nSummary Statistics:\")\n",
    "print(summary_stats)\n",
    "\n",
    "# Basic data manipulation\n",
    "# Sorting by Salary in descending order\n",
    "sorted_df = df.sort_values(by='Salary', ascending=False)\n",
    "\n",
    "# Filtering data where Age is greater than 25\n",
    "filtered_df = df[df['Age'] > 25]\n",
    "\n",
    "print(\"\\nSorted DataFrame by Salary:\")\n",
    "print(sorted_df)\n",
    "\n",
    "print(\"\\nFiltered DataFrame (Age > 25):\")\n",
    "print(filtered_df)"
   ]
  }
 ],
 "metadata": {
  "kernelspec": {
   "display_name": "Python 3",
   "language": "python",
   "name": "python3"
  },
  "language_info": {
   "codemirror_mode": {
    "name": "ipython",
    "version": 3
   },
   "file_extension": ".py",
   "mimetype": "text/x-python",
   "name": "python",
   "nbconvert_exporter": "python",
   "pygments_lexer": "ipython3",
   "version": "3.12.0"
  }
 },
 "nbformat": 4,
 "nbformat_minor": 2
}
