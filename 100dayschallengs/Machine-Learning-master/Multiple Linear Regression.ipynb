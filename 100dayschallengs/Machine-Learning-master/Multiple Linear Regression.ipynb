{
 "cells": [
  {
   "cell_type": "markdown",
   "metadata": {},
   "source": [
    "# Multiple linear regression\n",
    "\n",
    "Linear regression isn't limited to two dimensions (simple linear regression); it works in multiple dimensions, too. In this example, we use a dataset documenting housing prices in the Pacific Heights section of San Francisco and use multiple linear regression to predict what a dwelling will sell for given the number of rooms, the square footage, and other factors.\n",
    "\n",
    "![](Images/san-francisco.jpg)"
   ]
  },
  {
   "cell_type": "code",
   "execution_count": 1,
   "metadata": {},
   "outputs": [],
   "source": [
    "import pandas as pd\n",
    "import matplotlib.pyplot as plt\n",
    "import seaborn as sns\n",
    "\n",
    "sns.set()\n",
    "%matplotlib inline"
   ]
  },
  {
   "cell_type": "markdown",
   "metadata": {},
   "source": [
    "Load the dataset and examine its content and structure."
   ]
  },
  {
   "cell_type": "code",
   "execution_count": 2,
   "metadata": {
    "scrolled": true
   },
   "outputs": [
    {
     "data": {
      "text/html": [
       "<div>\n",
       "<style scoped>\n",
       "    .dataframe tbody tr th:only-of-type {\n",
       "        vertical-align: middle;\n",
       "    }\n",
       "\n",
       "    .dataframe tbody tr th {\n",
       "        vertical-align: top;\n",
       "    }\n",
       "\n",
       "    .dataframe thead th {\n",
       "        text-align: right;\n",
       "    }\n",
       "</style>\n",
       "<table border=\"1\" class=\"dataframe\">\n",
       "  <thead>\n",
       "    <tr style=\"text-align: right;\">\n",
       "      <th></th>\n",
       "      <th>address</th>\n",
       "      <th>bathrooms</th>\n",
       "      <th>bedrooms</th>\n",
       "      <th>finishedsqft</th>\n",
       "      <th>lastsolddate</th>\n",
       "      <th>lastsoldprice</th>\n",
       "      <th>latitude</th>\n",
       "      <th>longitude</th>\n",
       "      <th>neighborhood</th>\n",
       "      <th>totalrooms</th>\n",
       "      <th>usecode</th>\n",
       "      <th>yearbuilt</th>\n",
       "      <th>zipcode</th>\n",
       "    </tr>\n",
       "  </thead>\n",
       "  <tbody>\n",
       "    <tr>\n",
       "      <th>0</th>\n",
       "      <td>2243 Franklin St</td>\n",
       "      <td>2.0</td>\n",
       "      <td>2</td>\n",
       "      <td>1463</td>\n",
       "      <td>2/5/2016</td>\n",
       "      <td>1950000</td>\n",
       "      <td>37.795139</td>\n",
       "      <td>-122.425309</td>\n",
       "      <td>Pacific Heights</td>\n",
       "      <td>7</td>\n",
       "      <td>Condominium</td>\n",
       "      <td>1900</td>\n",
       "      <td>94109</td>\n",
       "    </tr>\n",
       "    <tr>\n",
       "      <th>1</th>\n",
       "      <td>2002 Pacific Ave APT 4</td>\n",
       "      <td>3.5</td>\n",
       "      <td>3</td>\n",
       "      <td>3291</td>\n",
       "      <td>1/22/2016</td>\n",
       "      <td>4200000</td>\n",
       "      <td>37.794429</td>\n",
       "      <td>-122.428513</td>\n",
       "      <td>Pacific Heights</td>\n",
       "      <td>7</td>\n",
       "      <td>Condominium</td>\n",
       "      <td>1961</td>\n",
       "      <td>94109</td>\n",
       "    </tr>\n",
       "    <tr>\n",
       "      <th>2</th>\n",
       "      <td>1945 Washington St APT 411</td>\n",
       "      <td>1.0</td>\n",
       "      <td>1</td>\n",
       "      <td>653</td>\n",
       "      <td>12/16/2015</td>\n",
       "      <td>665000</td>\n",
       "      <td>37.792472</td>\n",
       "      <td>-122.425281</td>\n",
       "      <td>Pacific Heights</td>\n",
       "      <td>3</td>\n",
       "      <td>Condominium</td>\n",
       "      <td>1987</td>\n",
       "      <td>94109</td>\n",
       "    </tr>\n",
       "    <tr>\n",
       "      <th>3</th>\n",
       "      <td>1896 Pacific Ave APT 802</td>\n",
       "      <td>2.5</td>\n",
       "      <td>2</td>\n",
       "      <td>2272</td>\n",
       "      <td>12/17/2014</td>\n",
       "      <td>2735000</td>\n",
       "      <td>37.794706</td>\n",
       "      <td>-122.426347</td>\n",
       "      <td>Pacific Heights</td>\n",
       "      <td>6</td>\n",
       "      <td>Condominium</td>\n",
       "      <td>1924</td>\n",
       "      <td>94109</td>\n",
       "    </tr>\n",
       "    <tr>\n",
       "      <th>4</th>\n",
       "      <td>1840 Washington St APT 603</td>\n",
       "      <td>1.0</td>\n",
       "      <td>1</td>\n",
       "      <td>837</td>\n",
       "      <td>12/2/2015</td>\n",
       "      <td>1050000</td>\n",
       "      <td>37.793212</td>\n",
       "      <td>-122.423744</td>\n",
       "      <td>Pacific Heights</td>\n",
       "      <td>3</td>\n",
       "      <td>Condominium</td>\n",
       "      <td>2012</td>\n",
       "      <td>94109</td>\n",
       "    </tr>\n",
       "  </tbody>\n",
       "</table>\n",
       "</div>"
      ],
      "text/plain": [
       "                      address  bathrooms  bedrooms  finishedsqft lastsolddate  \\\n",
       "0            2243 Franklin St        2.0         2          1463     2/5/2016   \n",
       "1      2002 Pacific Ave APT 4        3.5         3          3291    1/22/2016   \n",
       "2  1945 Washington St APT 411        1.0         1           653   12/16/2015   \n",
       "3    1896 Pacific Ave APT 802        2.5         2          2272   12/17/2014   \n",
       "4  1840 Washington St APT 603        1.0         1           837    12/2/2015   \n",
       "\n",
       "   lastsoldprice   latitude   longitude     neighborhood  totalrooms  \\\n",
       "0        1950000  37.795139 -122.425309  Pacific Heights           7   \n",
       "1        4200000  37.794429 -122.428513  Pacific Heights           7   \n",
       "2         665000  37.792472 -122.425281  Pacific Heights           3   \n",
       "3        2735000  37.794706 -122.426347  Pacific Heights           6   \n",
       "4        1050000  37.793212 -122.423744  Pacific Heights           3   \n",
       "\n",
       "       usecode  yearbuilt  zipcode  \n",
       "0  Condominium       1900    94109  \n",
       "1  Condominium       1961    94109  \n",
       "2  Condominium       1987    94109  \n",
       "3  Condominium       1924    94109  \n",
       "4  Condominium       2012    94109  "
      ]
     },
     "execution_count": 2,
     "metadata": {},
     "output_type": "execute_result"
    }
   ],
   "source": [
    "df = pd.read_csv('Data/pacific-heights.csv')\n",
    "df.head()"
   ]
  },
  {
   "cell_type": "markdown",
   "metadata": {},
   "source": [
    "How many rows and columns does the dataset contain?"
   ]
  },
  {
   "cell_type": "code",
   "execution_count": 3,
   "metadata": {},
   "outputs": [
    {
     "data": {
      "text/plain": [
       "(439, 13)"
      ]
     },
     "execution_count": 3,
     "metadata": {},
     "output_type": "execute_result"
    }
   ],
   "source": [
    "df.shape"
   ]
  },
  {
   "cell_type": "markdown",
   "metadata": {},
   "source": [
    "Make sure there are no missing values."
   ]
  },
  {
   "cell_type": "code",
   "execution_count": 4,
   "metadata": {},
   "outputs": [
    {
     "name": "stdout",
     "output_type": "stream",
     "text": [
      "<class 'pandas.core.frame.DataFrame'>\n",
      "RangeIndex: 439 entries, 0 to 438\n",
      "Data columns (total 13 columns):\n",
      "address          439 non-null object\n",
      "bathrooms        439 non-null float64\n",
      "bedrooms         439 non-null int64\n",
      "finishedsqft     439 non-null int64\n",
      "lastsolddate     439 non-null object\n",
      "lastsoldprice    439 non-null int64\n",
      "latitude         439 non-null float64\n",
      "longitude        439 non-null float64\n",
      "neighborhood     439 non-null object\n",
      "totalrooms       439 non-null int64\n",
      "usecode          439 non-null object\n",
      "yearbuilt        439 non-null int64\n",
      "zipcode          439 non-null int64\n",
      "dtypes: float64(3), int64(6), object(4)\n",
      "memory usage: 44.7+ KB\n"
     ]
    }
   ],
   "source": [
    "df.info()"
   ]
  },
  {
   "cell_type": "markdown",
   "metadata": {},
   "source": [
    "Call `corr()` on the DataFrame to compute the pairwise correlation of all columns, and filter the results to show how much each column contributes to the dwelling's last-sold price."
   ]
  },
  {
   "cell_type": "code",
   "execution_count": 5,
   "metadata": {},
   "outputs": [
    {
     "data": {
      "text/plain": [
       "lastsoldprice    1.000000\n",
       "finishedsqft     0.840864\n",
       "bathrooms        0.768179\n",
       "totalrooms       0.670726\n",
       "bedrooms         0.606579\n",
       "zipcode          0.296032\n",
       "latitude         0.126480\n",
       "yearbuilt       -0.214365\n",
       "longitude       -0.309462\n",
       "Name: lastsoldprice, dtype: float64"
      ]
     },
     "execution_count": 5,
     "metadata": {},
     "output_type": "execute_result"
    }
   ],
   "source": [
    "corr_matrix = df.corr()\n",
    "corr_matrix[\"lastsoldprice\"].sort_values(ascending=False)"
   ]
  },
  {
   "cell_type": "markdown",
   "metadata": {},
   "source": [
    "Factor out all the columns that have a correlation less than 0.2 as well as the latitude and longitude columns, which are roughly incorporated in the zip code. Also one-hot-encode the values in the \"usecode\" and \"zipcode\" columns so they can be included in the correlation (and in the model). It is easy to imagine that the dwelling's type and location could have an impact on the selling price."
   ]
  },
  {
   "cell_type": "code",
   "execution_count": 6,
   "metadata": {},
   "outputs": [
    {
     "data": {
      "text/html": [
       "<div>\n",
       "<style scoped>\n",
       "    .dataframe tbody tr th:only-of-type {\n",
       "        vertical-align: middle;\n",
       "    }\n",
       "\n",
       "    .dataframe tbody tr th {\n",
       "        vertical-align: top;\n",
       "    }\n",
       "\n",
       "    .dataframe thead th {\n",
       "        text-align: right;\n",
       "    }\n",
       "</style>\n",
       "<table border=\"1\" class=\"dataframe\">\n",
       "  <thead>\n",
       "    <tr style=\"text-align: right;\">\n",
       "      <th></th>\n",
       "      <th>bathrooms</th>\n",
       "      <th>bedrooms</th>\n",
       "      <th>finishedsqft</th>\n",
       "      <th>totalrooms</th>\n",
       "      <th>lastsoldprice</th>\n",
       "      <th>usecode_Condominium</th>\n",
       "      <th>usecode_Cooperative</th>\n",
       "      <th>usecode_Duplex</th>\n",
       "      <th>usecode_MultiFamily2To4</th>\n",
       "      <th>usecode_SingleFamily</th>\n",
       "      <th>usecode_Townhouse</th>\n",
       "      <th>zipcode_94109</th>\n",
       "      <th>zipcode_94115</th>\n",
       "      <th>zipcode_94123</th>\n",
       "    </tr>\n",
       "  </thead>\n",
       "  <tbody>\n",
       "    <tr>\n",
       "      <th>0</th>\n",
       "      <td>2.0</td>\n",
       "      <td>2</td>\n",
       "      <td>1463</td>\n",
       "      <td>7</td>\n",
       "      <td>1950000</td>\n",
       "      <td>1</td>\n",
       "      <td>0</td>\n",
       "      <td>0</td>\n",
       "      <td>0</td>\n",
       "      <td>0</td>\n",
       "      <td>0</td>\n",
       "      <td>1</td>\n",
       "      <td>0</td>\n",
       "      <td>0</td>\n",
       "    </tr>\n",
       "    <tr>\n",
       "      <th>1</th>\n",
       "      <td>3.5</td>\n",
       "      <td>3</td>\n",
       "      <td>3291</td>\n",
       "      <td>7</td>\n",
       "      <td>4200000</td>\n",
       "      <td>1</td>\n",
       "      <td>0</td>\n",
       "      <td>0</td>\n",
       "      <td>0</td>\n",
       "      <td>0</td>\n",
       "      <td>0</td>\n",
       "      <td>1</td>\n",
       "      <td>0</td>\n",
       "      <td>0</td>\n",
       "    </tr>\n",
       "    <tr>\n",
       "      <th>2</th>\n",
       "      <td>1.0</td>\n",
       "      <td>1</td>\n",
       "      <td>653</td>\n",
       "      <td>3</td>\n",
       "      <td>665000</td>\n",
       "      <td>1</td>\n",
       "      <td>0</td>\n",
       "      <td>0</td>\n",
       "      <td>0</td>\n",
       "      <td>0</td>\n",
       "      <td>0</td>\n",
       "      <td>1</td>\n",
       "      <td>0</td>\n",
       "      <td>0</td>\n",
       "    </tr>\n",
       "    <tr>\n",
       "      <th>3</th>\n",
       "      <td>2.5</td>\n",
       "      <td>2</td>\n",
       "      <td>2272</td>\n",
       "      <td>6</td>\n",
       "      <td>2735000</td>\n",
       "      <td>1</td>\n",
       "      <td>0</td>\n",
       "      <td>0</td>\n",
       "      <td>0</td>\n",
       "      <td>0</td>\n",
       "      <td>0</td>\n",
       "      <td>1</td>\n",
       "      <td>0</td>\n",
       "      <td>0</td>\n",
       "    </tr>\n",
       "    <tr>\n",
       "      <th>4</th>\n",
       "      <td>1.0</td>\n",
       "      <td>1</td>\n",
       "      <td>837</td>\n",
       "      <td>3</td>\n",
       "      <td>1050000</td>\n",
       "      <td>1</td>\n",
       "      <td>0</td>\n",
       "      <td>0</td>\n",
       "      <td>0</td>\n",
       "      <td>0</td>\n",
       "      <td>0</td>\n",
       "      <td>1</td>\n",
       "      <td>0</td>\n",
       "      <td>0</td>\n",
       "    </tr>\n",
       "  </tbody>\n",
       "</table>\n",
       "</div>"
      ],
      "text/plain": [
       "   bathrooms  bedrooms  finishedsqft  totalrooms  lastsoldprice  \\\n",
       "0        2.0         2          1463           7        1950000   \n",
       "1        3.5         3          3291           7        4200000   \n",
       "2        1.0         1           653           3         665000   \n",
       "3        2.5         2          2272           6        2735000   \n",
       "4        1.0         1           837           3        1050000   \n",
       "\n",
       "   usecode_Condominium  usecode_Cooperative  usecode_Duplex  \\\n",
       "0                    1                    0               0   \n",
       "1                    1                    0               0   \n",
       "2                    1                    0               0   \n",
       "3                    1                    0               0   \n",
       "4                    1                    0               0   \n",
       "\n",
       "   usecode_MultiFamily2To4  usecode_SingleFamily  usecode_Townhouse  \\\n",
       "0                        0                     0                  0   \n",
       "1                        0                     0                  0   \n",
       "2                        0                     0                  0   \n",
       "3                        0                     0                  0   \n",
       "4                        0                     0                  0   \n",
       "\n",
       "   zipcode_94109  zipcode_94115  zipcode_94123  \n",
       "0              1              0              0  \n",
       "1              1              0              0  \n",
       "2              1              0              0  \n",
       "3              1              0              0  \n",
       "4              1              0              0  "
      ]
     },
     "execution_count": 6,
     "metadata": {},
     "output_type": "execute_result"
    }
   ],
   "source": [
    "df = df[['bathrooms', 'bedrooms', 'finishedsqft', 'totalrooms', 'usecode', 'zipcode', 'lastsoldprice']]\n",
    "df = pd.get_dummies(df, columns=['usecode', 'zipcode'])\n",
    "df.head()"
   ]
  },
  {
   "cell_type": "markdown",
   "metadata": {},
   "source": [
    "Now run the correlation again."
   ]
  },
  {
   "cell_type": "code",
   "execution_count": 7,
   "metadata": {
    "scrolled": false
   },
   "outputs": [
    {
     "data": {
      "text/plain": [
       "lastsoldprice              1.000000\n",
       "finishedsqft               0.840864\n",
       "bathrooms                  0.768179\n",
       "totalrooms                 0.670726\n",
       "usecode_SingleFamily       0.638482\n",
       "bedrooms                   0.606579\n",
       "zipcode_94123              0.228418\n",
       "zipcode_94115              0.071123\n",
       "usecode_Duplex             0.006292\n",
       "usecode_MultiFamily2To4   -0.019009\n",
       "usecode_Townhouse         -0.025467\n",
       "usecode_Cooperative       -0.025556\n",
       "zipcode_94109             -0.243927\n",
       "usecode_Condominium       -0.598575\n",
       "Name: lastsoldprice, dtype: float64"
      ]
     },
     "execution_count": 7,
     "metadata": {},
     "output_type": "execute_result"
    }
   ],
   "source": [
    "corr_matrix = df.corr()\n",
    "corr_matrix[\"lastsoldprice\"].sort_values(ascending=False)"
   ]
  },
  {
   "cell_type": "markdown",
   "metadata": {},
   "source": [
    "Remove the use-code columns that have little bearing on the output."
   ]
  },
  {
   "cell_type": "code",
   "execution_count": 8,
   "metadata": {},
   "outputs": [
    {
     "data": {
      "text/html": [
       "<div>\n",
       "<style scoped>\n",
       "    .dataframe tbody tr th:only-of-type {\n",
       "        vertical-align: middle;\n",
       "    }\n",
       "\n",
       "    .dataframe tbody tr th {\n",
       "        vertical-align: top;\n",
       "    }\n",
       "\n",
       "    .dataframe thead th {\n",
       "        text-align: right;\n",
       "    }\n",
       "</style>\n",
       "<table border=\"1\" class=\"dataframe\">\n",
       "  <thead>\n",
       "    <tr style=\"text-align: right;\">\n",
       "      <th></th>\n",
       "      <th>bathrooms</th>\n",
       "      <th>bedrooms</th>\n",
       "      <th>finishedsqft</th>\n",
       "      <th>totalrooms</th>\n",
       "      <th>lastsoldprice</th>\n",
       "      <th>usecode_Condominium</th>\n",
       "      <th>usecode_SingleFamily</th>\n",
       "      <th>zipcode_94109</th>\n",
       "      <th>zipcode_94115</th>\n",
       "      <th>zipcode_94123</th>\n",
       "    </tr>\n",
       "  </thead>\n",
       "  <tbody>\n",
       "    <tr>\n",
       "      <th>0</th>\n",
       "      <td>2.0</td>\n",
       "      <td>2</td>\n",
       "      <td>1463</td>\n",
       "      <td>7</td>\n",
       "      <td>1950000</td>\n",
       "      <td>1</td>\n",
       "      <td>0</td>\n",
       "      <td>1</td>\n",
       "      <td>0</td>\n",
       "      <td>0</td>\n",
       "    </tr>\n",
       "    <tr>\n",
       "      <th>1</th>\n",
       "      <td>3.5</td>\n",
       "      <td>3</td>\n",
       "      <td>3291</td>\n",
       "      <td>7</td>\n",
       "      <td>4200000</td>\n",
       "      <td>1</td>\n",
       "      <td>0</td>\n",
       "      <td>1</td>\n",
       "      <td>0</td>\n",
       "      <td>0</td>\n",
       "    </tr>\n",
       "    <tr>\n",
       "      <th>2</th>\n",
       "      <td>1.0</td>\n",
       "      <td>1</td>\n",
       "      <td>653</td>\n",
       "      <td>3</td>\n",
       "      <td>665000</td>\n",
       "      <td>1</td>\n",
       "      <td>0</td>\n",
       "      <td>1</td>\n",
       "      <td>0</td>\n",
       "      <td>0</td>\n",
       "    </tr>\n",
       "    <tr>\n",
       "      <th>3</th>\n",
       "      <td>2.5</td>\n",
       "      <td>2</td>\n",
       "      <td>2272</td>\n",
       "      <td>6</td>\n",
       "      <td>2735000</td>\n",
       "      <td>1</td>\n",
       "      <td>0</td>\n",
       "      <td>1</td>\n",
       "      <td>0</td>\n",
       "      <td>0</td>\n",
       "    </tr>\n",
       "    <tr>\n",
       "      <th>4</th>\n",
       "      <td>1.0</td>\n",
       "      <td>1</td>\n",
       "      <td>837</td>\n",
       "      <td>3</td>\n",
       "      <td>1050000</td>\n",
       "      <td>1</td>\n",
       "      <td>0</td>\n",
       "      <td>1</td>\n",
       "      <td>0</td>\n",
       "      <td>0</td>\n",
       "    </tr>\n",
       "  </tbody>\n",
       "</table>\n",
       "</div>"
      ],
      "text/plain": [
       "   bathrooms  bedrooms  finishedsqft  totalrooms  lastsoldprice  \\\n",
       "0        2.0         2          1463           7        1950000   \n",
       "1        3.5         3          3291           7        4200000   \n",
       "2        1.0         1           653           3         665000   \n",
       "3        2.5         2          2272           6        2735000   \n",
       "4        1.0         1           837           3        1050000   \n",
       "\n",
       "   usecode_Condominium  usecode_SingleFamily  zipcode_94109  zipcode_94115  \\\n",
       "0                    1                     0              1              0   \n",
       "1                    1                     0              1              0   \n",
       "2                    1                     0              1              0   \n",
       "3                    1                     0              1              0   \n",
       "4                    1                     0              1              0   \n",
       "\n",
       "   zipcode_94123  \n",
       "0              0  \n",
       "1              0  \n",
       "2              0  \n",
       "3              0  \n",
       "4              0  "
      ]
     },
     "execution_count": 8,
     "metadata": {},
     "output_type": "execute_result"
    }
   ],
   "source": [
    "df = df.drop(['usecode_Duplex', 'usecode_MultiFamily2To4', 'usecode_Townhouse', 'usecode_Cooperative'], axis=1)\n",
    "df.head()"
   ]
  },
  {
   "cell_type": "markdown",
   "metadata": {},
   "source": [
    "Use Seaborn's handy [pairplot](https://seaborn.pydata.org/generated/seaborn.pairplot.html) function to visualize the relationships between non-categorical variables. Is there evidence of linearities?"
   ]
  },
  {
   "cell_type": "code",
   "execution_count": 9,
   "metadata": {},
   "outputs": [
    {
     "data": {
      "text/plain": [
       "<seaborn.axisgrid.PairGrid at 0x2aefa002908>"
      ]
     },
     "execution_count": 9,
     "metadata": {},
     "output_type": "execute_result"
    },
    {
     "data": {
      "image/png": "[encoded data removed]",
      "text/plain": [
       "<Figure size 900x900 with 30 Axes>"
      ]
     },
     "metadata": {
      "needs_background": "light"
     },
     "output_type": "display_data"
    }
   ],
   "source": [
    "sns.pairplot(df[['bathrooms', 'bedrooms', 'finishedsqft', 'totalrooms', 'lastsoldprice']])"
   ]
  },
  {
   "cell_type": "markdown",
   "metadata": {},
   "source": [
    "Split the data and train a linear-regression model."
   ]
  },
  {
   "cell_type": "code",
   "execution_count": 10,
   "metadata": {},
   "outputs": [
    {
     "data": {
      "text/plain": [
       "LinearRegression()"
      ]
     },
     "execution_count": 10,
     "metadata": {},
     "output_type": "execute_result"
    }
   ],
   "source": [
    "from sklearn.linear_model import LinearRegression\n",
    "from sklearn.model_selection import train_test_split\n",
    "\n",
    "x = df.drop('lastsoldprice', axis=1)\n",
    "y = df['lastsoldprice']\n",
    "x_train, x_test, y_train, y_test = train_test_split(x, y, test_size=0.2, random_state=0)\n",
    "\n",
    "model = LinearRegression()\n",
    "model.fit(x_train, y_train)"
   ]
  },
  {
   "cell_type": "markdown",
   "metadata": {},
   "source": [
    "What is the model's mean absolute error (MAE?)"
   ]
  },
  {
   "cell_type": "code",
   "execution_count": 11,
   "metadata": {},
   "outputs": [
    {
     "data": {
      "text/plain": [
       "774749.9610544097"
      ]
     },
     "execution_count": 11,
     "metadata": {},
     "output_type": "execute_result"
    }
   ],
   "source": [
    "from sklearn.metrics import mean_absolute_error\n",
    "\n",
    "mean_absolute_error(y_test, model.predict(x_test))"
   ]
  },
  {
   "cell_type": "markdown",
   "metadata": {},
   "source": [
    "Compute the R2 score."
   ]
  },
  {
   "cell_type": "code",
   "execution_count": 12,
   "metadata": {},
   "outputs": [
    {
     "data": {
      "text/plain": [
       "0.7020422701707544"
      ]
     },
     "execution_count": 12,
     "metadata": {},
     "output_type": "execute_result"
    }
   ],
   "source": [
    "model.score(x_test, y_test)"
   ]
  },
  {
   "cell_type": "markdown",
   "metadata": {},
   "source": [
    "Compute the R2 score across five folds."
   ]
  },
  {
   "cell_type": "code",
   "execution_count": 13,
   "metadata": {},
   "outputs": [
    {
     "data": {
      "text/plain": [
       "0.6646690514933851"
      ]
     },
     "execution_count": 13,
     "metadata": {},
     "output_type": "execute_result"
    }
   ],
   "source": [
    "from sklearn.model_selection import cross_val_score\n",
    "\n",
    "cross_val_score(model, x, y, cv=5).mean()"
   ]
  },
  {
   "cell_type": "markdown",
   "metadata": {},
   "source": [
    "What would a single-family home with 2 bathrooms, 2 bedrooms, 7 total rooms, and 2,000 square feet of space sell for in zip code 94115?"
   ]
  },
  {
   "cell_type": "code",
   "execution_count": 14,
   "metadata": {},
   "outputs": [
    {
     "data": {
      "text/plain": [
       "array([2740725.63013086])"
      ]
     },
     "execution_count": 14,
     "metadata": {},
     "output_type": "execute_result"
    }
   ],
   "source": [
    "model.predict([[2, 2, 2000, 7, 0, 1, 0, 1, 0]])"
   ]
  }
 ],
 "metadata": {
  "kernelspec": {
   "display_name": "Python 3.7.3 64-bit",
   "language": "python",
   "name": "python37364bit5e0b7703ae47466699b32afa3e25363f"
  },
  "language_info": {
   "codemirror_mode": {
    "name": "ipython",
    "version": 3
   },
   "file_extension": ".py",
   "mimetype": "text/x-python",
   "name": "python",
   "nbconvert_exporter": "python",
   "pygments_lexer": "ipython3",
   "version": "3.7.3"
  }
 },
 "nbformat": 4,
 "nbformat_minor": 2
}
