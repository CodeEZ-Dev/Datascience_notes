{
 "cells": [
  {
   "cell_type": "code",
   "execution_count": 5,
   "metadata": {},
   "outputs": [],
   "source": [
    "import streamlit as st\n",
    "import ollama\n",
    "from PIL import Image\n",
    "import io"
   ]
  },
  {
   "cell_type": "code",
   "execution_count": 6,
   "metadata": {},
   "outputs": [
    {
     "name": "stderr",
     "output_type": "stream",
     "text": [
      "2024-12-08 12:01:08.533 WARNING streamlit.runtime.scriptrunner_utils.script_run_context: Thread 'MainThread': missing ScriptRunContext! This warning can be ignored when running in bare mode.\n",
      "2024-12-08 12:01:08.534 WARNING streamlit.runtime.scriptrunner_utils.script_run_context: Thread 'MainThread': missing ScriptRunContext! This warning can be ignored when running in bare mode.\n",
      "2024-12-08 12:01:08.590 \n",
      "  \u001b[33m\u001b[1mWarning:\u001b[0m to view this Streamlit app on a browser, run it with the following\n",
      "  command:\n",
      "\n",
      "    streamlit run /Users/munusami/Desktop/M.Tech AI program/Python/Ford_Bot/.venv/lib/python3.10/site-packages/ipykernel_launcher.py [ARGUMENTS]\n",
      "2024-12-08 12:01:08.590 Thread 'MainThread': missing ScriptRunContext! This warning can be ignored when running in bare mode.\n",
      "2024-12-08 12:01:08.591 Thread 'MainThread': missing ScriptRunContext! This warning can be ignored when running in bare mode.\n",
      "2024-12-08 12:01:08.592 Thread 'MainThread': missing ScriptRunContext! This warning can be ignored when running in bare mode.\n",
      "2024-12-08 12:01:08.592 Thread 'MainThread': missing ScriptRunContext! This warning can be ignored when running in bare mode.\n",
      "2024-12-08 12:01:08.593 Thread 'MainThread': missing ScriptRunContext! This warning can be ignored when running in bare mode.\n",
      "2024-12-08 12:01:08.593 Thread 'MainThread': missing ScriptRunContext! This warning can be ignored when running in bare mode.\n",
      "2024-12-08 12:01:08.594 Thread 'MainThread': missing ScriptRunContext! This warning can be ignored when running in bare mode.\n",
      "2024-12-08 12:01:08.595 Thread 'MainThread': missing ScriptRunContext! This warning can be ignored when running in bare mode.\n",
      "2024-12-08 12:01:08.596 Thread 'MainThread': missing ScriptRunContext! This warning can be ignored when running in bare mode.\n",
      "2024-12-08 12:01:08.596 Thread 'MainThread': missing ScriptRunContext! This warning can be ignored when running in bare mode.\n",
      "2024-12-08 12:01:08.597 Thread 'MainThread': missing ScriptRunContext! This warning can be ignored when running in bare mode.\n",
      "2024-12-08 12:01:08.597 Thread 'MainThread': missing ScriptRunContext! This warning can be ignored when running in bare mode.\n",
      "2024-12-08 12:01:08.598 Thread 'MainThread': missing ScriptRunContext! This warning can be ignored when running in bare mode.\n",
      "2024-12-08 12:01:08.599 Thread 'MainThread': missing ScriptRunContext! This warning can be ignored when running in bare mode.\n",
      "2024-12-08 12:01:08.600 Thread 'MainThread': missing ScriptRunContext! This warning can be ignored when running in bare mode.\n",
      "2024-12-08 12:01:08.601 Thread 'MainThread': missing ScriptRunContext! This warning can be ignored when running in bare mode.\n",
      "2024-12-08 12:01:08.601 Thread 'MainThread': missing ScriptRunContext! This warning can be ignored when running in bare mode.\n",
      "2024-12-08 12:01:08.602 Thread 'MainThread': missing ScriptRunContext! This warning can be ignored when running in bare mode.\n",
      "2024-12-08 12:01:08.603 Thread 'MainThread': missing ScriptRunContext! This warning can be ignored when running in bare mode.\n",
      "2024-12-08 12:01:08.605 Thread 'MainThread': missing ScriptRunContext! This warning can be ignored when running in bare mode.\n",
      "2024-12-08 12:01:08.606 Thread 'MainThread': missing ScriptRunContext! This warning can be ignored when running in bare mode.\n",
      "2024-12-08 12:01:08.607 Session state does not function when running a script without `streamlit run`\n",
      "2024-12-08 12:01:08.608 Thread 'MainThread': missing ScriptRunContext! This warning can be ignored when running in bare mode.\n",
      "2024-12-08 12:01:08.608 Thread 'MainThread': missing ScriptRunContext! This warning can be ignored when running in bare mode.\n",
      "2024-12-08 12:01:08.609 Thread 'MainThread': missing ScriptRunContext! This warning can be ignored when running in bare mode.\n",
      "2024-12-08 12:01:08.610 Thread 'MainThread': missing ScriptRunContext! This warning can be ignored when running in bare mode.\n",
      "2024-12-08 12:01:08.610 Thread 'MainThread': missing ScriptRunContext! This warning can be ignored when running in bare mode.\n",
      "2024-12-08 12:01:08.611 Thread 'MainThread': missing ScriptRunContext! This warning can be ignored when running in bare mode.\n"
     ]
    },
    {
     "data": {
      "text/plain": [
       "DeltaGenerator()"
      ]
     },
     "execution_count": 6,
     "metadata": {},
     "output_type": "execute_result"
    }
   ],
   "source": [
    "# Page configuration\n",
    "st.set_page_config(\n",
    "    page_title=\"Llama OCR\",\n",
    "    page_icon=\"🦙\",\n",
    "    layout=\"wide\",\n",
    "    initial_sidebar_state=\"expanded\"\n",
    ")\n",
    "\n",
    "# Title and description in main area\n",
    "st.title(\"🦙 Llama OCR\")\n",
    "\n",
    "# Add clear button to top right\n",
    "col1, col2 = st.columns([6,1])\n",
    "with col2:\n",
    "    if st.button(\"Clear 🗑️\"):\n",
    "        if 'ocr_result' in st.session_state:\n",
    "            del st.session_state['ocr_result']\n",
    "        st.rerun()\n",
    "\n",
    "st.markdown('<p style=\"margin-top: -20px;\">Extract structured text from images using Llama 3.2 Vision!</p>', unsafe_allow_html=True)\n",
    "st.markdown(\"---\")\n",
    "\n",
    "# Move upload controls to sidebar\n",
    "with st.sidebar:\n",
    "    st.header(\"Upload Image\")\n",
    "    uploaded_file = st.file_uploader(\"Choose an image...\", type=['png', 'jpg', 'jpeg'])\n",
    "    \n",
    "    if uploaded_file is not None:\n",
    "        # Display the uploaded image\n",
    "        image = Image.open(uploaded_file)\n",
    "        st.image(image, caption=\"Uploaded Image\")\n",
    "        \n",
    "        if st.button(\"Extract Text 🔍\", type=\"primary\"):\n",
    "            with st.spinner(\"Processing image...\"):\n",
    "                try:\n",
    "                    response = ollama.chat(\n",
    "                        model='llama3.2-vision',\n",
    "                        messages=[{\n",
    "                            'role': 'user',\n",
    "                            'content': \"\"\"Analyze the text in the provided image. Extract all readable content\n",
    "                                        and present it in a structured Markdown format that is clear, concise, \n",
    "                                        and well-organized. Ensure proper formatting (e.g., headings, lists, or\n",
    "                                        code blocks) as necessary to represent the content effectively.\"\"\",\n",
    "                            'images': [uploaded_file.getvalue()]\n",
    "                        }]\n",
    "                    )\n",
    "                    st.session_state['ocr_result'] = response.message.content\n",
    "                except Exception as e:\n",
    "                    st.error(f\"Error processing image: {str(e)}\")\n",
    "\n",
    "# Main content area for results\n",
    "if 'ocr_result' in st.session_state:\n",
    "    st.markdown(st.session_state['ocr_result'])\n",
    "else:\n",
    "    st.info(\"Upload an image and click 'Extract Text' to see the results here.\")\n",
    "\n",
    "# Footer\n",
    "st.markdown(\"---\")\n",
    "st.markdown(\"Made with ❤️ using Llama Vision Model2 | [Report an Issue](https://github.com/patchy631/ai-engineering-hub/issues)\")"
   ]
  }
 ],
 "metadata": {
  "kernelspec": {
   "display_name": ".venv",
   "language": "python",
   "name": "python3"
  },
  "language_info": {
   "codemirror_mode": {
    "name": "ipython",
    "version": 3
   },
   "file_extension": ".py",
   "mimetype": "text/x-python",
   "name": "python",
   "nbconvert_exporter": "python",
   "pygments_lexer": "ipython3",
   "version": "3.10.15"
  }
 },
 "nbformat": 4,
 "nbformat_minor": 2
}
